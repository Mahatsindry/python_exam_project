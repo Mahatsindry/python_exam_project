{
 "cells": [
  {
   "cell_type": "markdown",
   "id": "b328961a",
   "metadata": {},
   "source": [
    "import numpy and pandas"
   ]
  },
  {
   "cell_type": "code",
   "execution_count": 1,
   "id": "886f7ba2",
   "metadata": {},
   "outputs": [],
   "source": [
    "import numpy as np\n"
   ]
  },
  {
   "cell_type": "code",
   "execution_count": 2,
   "id": "74cfbfa3",
   "metadata": {},
   "outputs": [
    {
     "data": {
      "text/plain": [
       "'c:\\\\Users\\\\randz\\\\Desktop\\\\D.U.data_analytics\\\\intro_python\\\\intro_python_1\\\\livrable_exams'"
      ]
     },
     "execution_count": 2,
     "metadata": {},
     "output_type": "execute_result"
    }
   ],
   "source": [
    "#getting the path to the dataset\n",
    "import os\n",
    "os.getcwd()"
   ]
  },
  {
   "cell_type": "markdown",
   "id": "82ae377c",
   "metadata": {},
   "source": [
    "import dataframe .csv format"
   ]
  },
  {
   "cell_type": "code",
   "execution_count": 3,
   "id": "9c581d04",
   "metadata": {},
   "outputs": [],
   "source": [
    "import pandas as pd # to handle data frame pandas is needed\n",
    "df =  pd.read_csv('c:/Users/randz/Desktop/D.U.data_analytics/intro_python/intro_python_1/livrable_exams/diabetes.csv')"
   ]
  },
  {
   "cell_type": "markdown",
   "id": "f4eda7f0",
   "metadata": {},
   "source": [
    "Knowing the variable names"
   ]
  },
  {
   "cell_type": "code",
   "execution_count": 4,
   "id": "b8e0aafa",
   "metadata": {},
   "outputs": [
    {
     "data": {
      "text/html": [
       "<div>\n",
       "<style scoped>\n",
       "    .dataframe tbody tr th:only-of-type {\n",
       "        vertical-align: middle;\n",
       "    }\n",
       "\n",
       "    .dataframe tbody tr th {\n",
       "        vertical-align: top;\n",
       "    }\n",
       "\n",
       "    .dataframe thead th {\n",
       "        text-align: right;\n",
       "    }\n",
       "</style>\n",
       "<table border=\"1\" class=\"dataframe\">\n",
       "  <thead>\n",
       "    <tr style=\"text-align: right;\">\n",
       "      <th></th>\n",
       "      <th>Pregnancies</th>\n",
       "      <th>Glucose</th>\n",
       "      <th>BloodPressure</th>\n",
       "      <th>SkinThickness</th>\n",
       "      <th>Insulin</th>\n",
       "      <th>BMI</th>\n",
       "      <th>DiabetesPedigreeFunction</th>\n",
       "      <th>Age</th>\n",
       "      <th>Outcome</th>\n",
       "    </tr>\n",
       "  </thead>\n",
       "  <tbody>\n",
       "    <tr>\n",
       "      <th>count</th>\n",
       "      <td>768.000000</td>\n",
       "      <td>768.000000</td>\n",
       "      <td>768.000000</td>\n",
       "      <td>768.000000</td>\n",
       "      <td>768.000000</td>\n",
       "      <td>768.000000</td>\n",
       "      <td>768.000000</td>\n",
       "      <td>768.000000</td>\n",
       "      <td>768.000000</td>\n",
       "    </tr>\n",
       "    <tr>\n",
       "      <th>mean</th>\n",
       "      <td>3.845052</td>\n",
       "      <td>120.894531</td>\n",
       "      <td>69.105469</td>\n",
       "      <td>20.536458</td>\n",
       "      <td>79.799479</td>\n",
       "      <td>31.992578</td>\n",
       "      <td>0.471876</td>\n",
       "      <td>33.240885</td>\n",
       "      <td>0.348958</td>\n",
       "    </tr>\n",
       "    <tr>\n",
       "      <th>std</th>\n",
       "      <td>3.369578</td>\n",
       "      <td>31.972618</td>\n",
       "      <td>19.355807</td>\n",
       "      <td>15.952218</td>\n",
       "      <td>115.244002</td>\n",
       "      <td>7.884160</td>\n",
       "      <td>0.331329</td>\n",
       "      <td>11.760232</td>\n",
       "      <td>0.476951</td>\n",
       "    </tr>\n",
       "    <tr>\n",
       "      <th>min</th>\n",
       "      <td>0.000000</td>\n",
       "      <td>0.000000</td>\n",
       "      <td>0.000000</td>\n",
       "      <td>0.000000</td>\n",
       "      <td>0.000000</td>\n",
       "      <td>0.000000</td>\n",
       "      <td>0.078000</td>\n",
       "      <td>21.000000</td>\n",
       "      <td>0.000000</td>\n",
       "    </tr>\n",
       "    <tr>\n",
       "      <th>25%</th>\n",
       "      <td>1.000000</td>\n",
       "      <td>99.000000</td>\n",
       "      <td>62.000000</td>\n",
       "      <td>0.000000</td>\n",
       "      <td>0.000000</td>\n",
       "      <td>27.300000</td>\n",
       "      <td>0.243750</td>\n",
       "      <td>24.000000</td>\n",
       "      <td>0.000000</td>\n",
       "    </tr>\n",
       "    <tr>\n",
       "      <th>50%</th>\n",
       "      <td>3.000000</td>\n",
       "      <td>117.000000</td>\n",
       "      <td>72.000000</td>\n",
       "      <td>23.000000</td>\n",
       "      <td>30.500000</td>\n",
       "      <td>32.000000</td>\n",
       "      <td>0.372500</td>\n",
       "      <td>29.000000</td>\n",
       "      <td>0.000000</td>\n",
       "    </tr>\n",
       "    <tr>\n",
       "      <th>75%</th>\n",
       "      <td>6.000000</td>\n",
       "      <td>140.250000</td>\n",
       "      <td>80.000000</td>\n",
       "      <td>32.000000</td>\n",
       "      <td>127.250000</td>\n",
       "      <td>36.600000</td>\n",
       "      <td>0.626250</td>\n",
       "      <td>41.000000</td>\n",
       "      <td>1.000000</td>\n",
       "    </tr>\n",
       "    <tr>\n",
       "      <th>max</th>\n",
       "      <td>17.000000</td>\n",
       "      <td>199.000000</td>\n",
       "      <td>122.000000</td>\n",
       "      <td>99.000000</td>\n",
       "      <td>846.000000</td>\n",
       "      <td>67.100000</td>\n",
       "      <td>2.420000</td>\n",
       "      <td>81.000000</td>\n",
       "      <td>1.000000</td>\n",
       "    </tr>\n",
       "  </tbody>\n",
       "</table>\n",
       "</div>"
      ],
      "text/plain": [
       "       Pregnancies     Glucose  BloodPressure  SkinThickness     Insulin  \\\n",
       "count   768.000000  768.000000     768.000000     768.000000  768.000000   \n",
       "mean      3.845052  120.894531      69.105469      20.536458   79.799479   \n",
       "std       3.369578   31.972618      19.355807      15.952218  115.244002   \n",
       "min       0.000000    0.000000       0.000000       0.000000    0.000000   \n",
       "25%       1.000000   99.000000      62.000000       0.000000    0.000000   \n",
       "50%       3.000000  117.000000      72.000000      23.000000   30.500000   \n",
       "75%       6.000000  140.250000      80.000000      32.000000  127.250000   \n",
       "max      17.000000  199.000000     122.000000      99.000000  846.000000   \n",
       "\n",
       "              BMI  DiabetesPedigreeFunction         Age     Outcome  \n",
       "count  768.000000                768.000000  768.000000  768.000000  \n",
       "mean    31.992578                  0.471876   33.240885    0.348958  \n",
       "std      7.884160                  0.331329   11.760232    0.476951  \n",
       "min      0.000000                  0.078000   21.000000    0.000000  \n",
       "25%     27.300000                  0.243750   24.000000    0.000000  \n",
       "50%     32.000000                  0.372500   29.000000    0.000000  \n",
       "75%     36.600000                  0.626250   41.000000    1.000000  \n",
       "max     67.100000                  2.420000   81.000000    1.000000  "
      ]
     },
     "execution_count": 4,
     "metadata": {},
     "output_type": "execute_result"
    }
   ],
   "source": [
    "# the title of each column is thevariable names\n",
    "#desscribin variable types: int, float,...\n",
    "df.describe()\n"
   ]
  },
  {
   "cell_type": "markdown",
   "id": "6961aba5",
   "metadata": {},
   "source": [
    "detecting the outlier\n"
   ]
  },
  {
   "cell_type": "markdown",
   "id": "3d4e7238",
   "metadata": {},
   "source": [
    "A MOCK TEST TO REMOVE THE OUTLIERS \"do not consider\""
   ]
  },
  {
   "cell_type": "code",
   "execution_count": 5,
   "id": "b1260dcb",
   "metadata": {},
   "outputs": [
    {
     "name": "stdout",
     "output_type": "stream",
     "text": [
      "-0.32999999999999996\n",
      "1.2\n",
      "     Pregnancies  Glucose  BloodPressure  SkinThickness  Insulin   BMI  \\\n",
      "0              6      148             72             35        0  33.6   \n",
      "1              1       85             66             29        0  26.6   \n",
      "2              8      183             64              0        0  23.3   \n",
      "3              1       89             66             23       94  28.1   \n",
      "5              5      116             74              0        0  25.6   \n",
      "..           ...      ...            ...            ...      ...   ...   \n",
      "763           10      101             76             48      180  32.9   \n",
      "764            2      122             70             27        0  36.8   \n",
      "765            5      121             72             23      112  26.2   \n",
      "766            1      126             60              0        0  30.1   \n",
      "767            1       93             70             31        0  30.4   \n",
      "\n",
      "     DiabetesPedigreeFunction  Age  Outcome  \n",
      "0                       0.627   50        1  \n",
      "1                       0.351   31        0  \n",
      "2                       0.672   32        1  \n",
      "3                       0.167   21        0  \n",
      "5                       0.201   30        0  \n",
      "..                        ...  ...      ...  \n",
      "763                     0.171   63        0  \n",
      "764                     0.340   27        0  \n",
      "765                     0.245   30        0  \n",
      "766                     0.349   47        1  \n",
      "767                     0.315   23        0  \n",
      "\n",
      "[739 rows x 9 columns]\n"
     ]
    }
   ],
   "source": [
    "#### A MOCK TEST TO REMOVE THE OUTLIERS ON A SINGLE COLUMN (variable)\n",
    "\n",
    "###detecting first the lower and upper bound\n",
    "# variable list DPF, glucose, insuline, BMI, outcomes.\n",
    "#uper bound\n",
    "# having the first quartiles\n",
    "Q1_dpf=df['DiabetesPedigreeFunction'].quantile(0.25)\n",
    "#having the 3rd quartiles\n",
    "Q3_dpf=df['DiabetesPedigreeFunction'].quantile(0.75)\n",
    "\n",
    "#the interquantile\n",
    "IQR_dpf = Q3_dpf-Q1_dpf\n",
    "\n",
    "#getting the lower and the upper bounds\n",
    "lower_dpf= Q1_dpf-1.5*IQR_dpf\n",
    "upper_dpf= Q3_dpf+1.5*IQR_dpf\n",
    "print(lower_dpf)\n",
    "print(upper_dpf)\n",
    "# getting the outliers\n",
    "dpf_no_outliers = df[(df['DiabetesPedigreeFunction']>=lower_dpf)\n",
    "                & (df['DiabetesPedigreeFunction']<= upper_dpf)]\n",
    "# removing rows or index that are indetified as outliers\n",
    "print(dpf_no_outliers)"
   ]
  },
  {
   "cell_type": "code",
   "execution_count": null,
   "id": "e8aa950d",
   "metadata": {},
   "outputs": [],
   "source": []
  },
  {
   "cell_type": "markdown",
   "id": "4a583e98",
   "metadata": {},
   "source": [
    "removing the outliers via for loop on the four variables meaning dictionary"
   ]
  },
  {
   "cell_type": "code",
   "execution_count": 6,
   "id": "f3db164e",
   "metadata": {},
   "outputs": [],
   "source": [
    "# List of columns for which outliers are to be removed\n",
    "varlist = ['DiabetesPedigreeFunction', 'BMI', 'Glucose', 'Insulin', 'Outcome']\n",
    "\n",
    "# Iterate over the list of columns\n",
    "for col in varlist:\n",
    "    # Calculate the lower and upper bounds for the current column\n",
    "    # the third and the first quartiles\n",
    "    Q1=df[col].quantile(0.25)\n",
    "    Q3=df[col].quantile(0.75)\n",
    "    # the interquartiles\n",
    "    interQ=Q3-Q1\n",
    "    #the bounds\n",
    "    lower=Q1-1.5*interQ\n",
    "    upper=Q3+1.5*interQ\n",
    "    # slashing the out of bounds\n",
    "    \n",
    "    df = df[(df[col] >= lower) & (df[col] <= upper)]\n",
    "    df\n"
   ]
  },
  {
   "cell_type": "markdown",
   "id": "dedbf876",
   "metadata": {},
   "source": [
    "DISPLAYING ON BOX PLOT THE OUTLIERS"
   ]
  },
  {
   "cell_type": "code",
   "execution_count": 7,
   "id": "02cc5d36",
   "metadata": {},
   "outputs": [
    {
     "name": "stdout",
     "output_type": "stream",
     "text": [
      "\n",
      "Outliers pour la colonne 'DiabetesPedigreeFunction' :\n",
      "     Pregnancies  Glucose  BloodPressure  SkinThickness  Insulin   BMI  \\\n",
      "131            9      122             56              0        0  33.3   \n",
      "152            9      156             86             28      155  34.3   \n",
      "270           10      101             86             37        0  45.6   \n",
      "314            7      109             80             31        0  35.9   \n",
      "408            8      197             74              0        0  25.9   \n",
      "434            1       90             68              8        0  24.5   \n",
      "487            0      173             78             32      265  46.5   \n",
      "493            4      125             70             18      122  28.9   \n",
      "588            3      176             86             27      156  33.3   \n",
      "657            1      120             80             48      200  38.9   \n",
      "744           13      153             88             37      140  40.6   \n",
      "750            4      136             70              0        0  31.2   \n",
      "\n",
      "     DiabetesPedigreeFunction  Age  Outcome  \n",
      "131                     1.114   33        1  \n",
      "152                     1.189   42        1  \n",
      "270                     1.136   38        1  \n",
      "314                     1.127   43        1  \n",
      "408                     1.191   39        1  \n",
      "434                     1.138   36        0  \n",
      "487                     1.159   58        0  \n",
      "493                     1.144   45        1  \n",
      "588                     1.154   52        1  \n",
      "657                     1.162   41        0  \n",
      "744                     1.174   39        0  \n",
      "750                     1.182   22        1  \n"
     ]
    },
    {
     "data": {
      "image/png": "[encoded data removed]",
      "text/plain": [
       "<Figure size 400x200 with 1 Axes>"
      ]
     },
     "metadata": {},
     "output_type": "display_data"
    },
    {
     "name": "stdout",
     "output_type": "stream",
     "text": [
      "\n",
      "Outliers pour la colonne 'BMI' :\n",
      "     Pregnancies  Glucose  BloodPressure  SkinThickness  Insulin   BMI  \\\n",
      "99             1      122             90             51      220  49.7   \n",
      "155            7      152             88             44        0  50.0   \n",
      "681            0      162             76             36        0  49.6   \n",
      "\n",
      "     DiabetesPedigreeFunction  Age  Outcome  \n",
      "99                      0.325   31        1  \n",
      "155                     0.337   36        1  \n",
      "681                     0.364   26        1  \n"
     ]
    },
    {
     "data": {
      "image/png": "[encoded data removed]",
      "text/plain": [
       "<Figure size 400x200 with 1 Axes>"
      ]
     },
     "metadata": {},
     "output_type": "display_data"
    },
    {
     "name": "stdout",
     "output_type": "stream",
     "text": [
      "\n",
      "Outliers pour la colonne 'Glucose' :\n",
      "     Pregnancies  Glucose  BloodPressure  SkinThickness  Insulin   BMI  \\\n",
      "22             7      196             90              0        0  39.8   \n",
      "206            8      196             76             29      280  37.5   \n",
      "359            1      196             76             36      249  36.5   \n",
      "408            8      197             74              0        0  25.9   \n",
      "498            7      195             70             33      145  25.1   \n",
      "561            0      198             66             32      274  41.3   \n",
      "579            2      197             70             99        0  34.7   \n",
      "675            6      195             70              0        0  30.9   \n",
      "\n",
      "     DiabetesPedigreeFunction  Age  Outcome  \n",
      "22                      0.451   41        1  \n",
      "206                     0.605   57        1  \n",
      "359                     0.875   29        1  \n",
      "408                     1.191   39        1  \n",
      "498                     0.163   55        1  \n",
      "561                     0.502   28        1  \n",
      "579                     0.575   62        1  \n",
      "675                     0.328   31        1  \n"
     ]
    },
    {
     "data": {
      "image/png": "[encoded data removed]",
      "text/plain": [
       "<Figure size 400x200 with 1 Axes>"
      ]
     },
     "metadata": {},
     "output_type": "display_data"
    },
    {
     "name": "stdout",
     "output_type": "stream",
     "text": [
      "\n",
      "Outliers pour la colonne 'Insulin' :\n",
      "     Pregnancies  Glucose  BloodPressure  SkinThickness  Insulin   BMI  \\\n",
      "53             8      176             90             34      300  33.7   \n",
      "56             7      187             68             39      304  37.7   \n",
      "364            4      147             74             25      293  34.9   \n",
      "412            1      143             84             23      310  42.4   \n",
      "713            0      134             58             20      291  26.4   \n",
      "\n",
      "     DiabetesPedigreeFunction  Age  Outcome  \n",
      "53                      0.467   58        1  \n",
      "56                      0.254   41        1  \n",
      "364                     0.385   30        0  \n",
      "412                     1.076   22        0  \n",
      "713                     0.352   21        0  \n"
     ]
    },
    {
     "data": {
      "image/png": "[encoded data removed]",
      "text/plain": [
       "<Figure size 400x200 with 1 Axes>"
      ]
     },
     "metadata": {},
     "output_type": "display_data"
    },
    {
     "name": "stdout",
     "output_type": "stream",
     "text": [
      "\n",
      "Outliers pour la colonne 'Outcome' :\n",
      "Empty DataFrame\n",
      "Columns: [Pregnancies, Glucose, BloodPressure, SkinThickness, Insulin, BMI, DiabetesPedigreeFunction, Age, Outcome]\n",
      "Index: []\n"
     ]
    },
    {
     "data": {
      "image/png": "[encoded data removed]",
      "text/plain": [
       "<Figure size 400x200 with 1 Axes>"
      ]
     },
     "metadata": {},
     "output_type": "display_data"
    }
   ],
   "source": [
    "# import the matplotlib\n",
    "import matplotlib.pyplot as plt\n",
    "\n",
    "#running the display on for loop\n",
    "varlist = ['DiabetesPedigreeFunction', 'BMI', 'Glucose', 'Insulin', 'Outcome']\n",
    "for col in varlist:\n",
    "    # Calcul des quartiles Q1 et Q3\n",
    "    Q1 = df[col].quantile(0.25)\n",
    "    Q3 = df[col].quantile(0.75)\n",
    "    \n",
    "    # Calcul de l'IQR (Interquartile Range)\n",
    "    IQR = Q3 - Q1\n",
    "    \n",
    "    # Calcul des bornes inférieure et supérieure\n",
    "    lower_bound = Q1 - 1.5 * IQR\n",
    "    upper_bound = Q3 + 1.5 * IQR\n",
    "    \n",
    "    # Détection des outliers : valeurs en dehors des bornes\n",
    "    outliers = df[(df[col] < lower_bound) | (df[col] > upper_bound)]\n",
    "    \n",
    "    # Affichage des résultats\n",
    "    print(f\"\\nOutliers pour la colonne '{col}' :\")\n",
    "    print(outliers)\n",
    "    plt.figure(figsize=(4,2))\n",
    "    plt.boxplot(df[col]) # plugging the box\n",
    "    plt.title(f'Boxplot of {col}')# titling the eax box\n",
    "    # plt.xlabel(col) # displaying the label of box not needed, \n",
    "    # because there is a title\n",
    "    plt.tight_layout() #squiz the display into miniature\n",
    "    plt.show() # display the result\n",
    "\n"
   ]
  },
  {
   "cell_type": "markdown",
   "id": "61472939",
   "metadata": {},
   "source": [
    "counting the missing values"
   ]
  },
  {
   "cell_type": "code",
   "execution_count": 26,
   "id": "d99e35ce",
   "metadata": {},
   "outputs": [
    {
     "name": "stdout",
     "output_type": "stream",
     "text": [
      "False\n",
      "0\n",
      "685\n",
      "False\n",
      "0\n",
      "685\n",
      "False\n",
      "0\n",
      "685\n",
      "False\n",
      "0\n",
      "685\n",
      "False\n",
      "0\n",
      "685\n"
     ]
    }
   ],
   "source": [
    "# counting the missing value\n",
    "\n",
    "for col in varlist:\n",
    "     # the sum is !=0 when there is a missing value in each column\n",
    "       print (df[col].isna().sum()>0)\n",
    "    # if there was we proceed either to remove them or replace them with median\n",
    "       print (df[col].isnull().sum()) # if there is \"zero\" value in each column, that is an odd number in medecine\n",
    "       print (df[col].isnull().count())"
   ]
  },
  {
   "cell_type": "code",
   "execution_count": 8,
   "id": "47565cf2",
   "metadata": {},
   "outputs": [
    {
     "name": "stdout",
     "output_type": "stream",
     "text": [
      "685\n",
      "685\n",
      "685\n",
      "685\n",
      "685\n"
     ]
    }
   ],
   "source": [
    "## replacing the null values into mediane more reasonble value\n",
    "correct_varlist = ['DiabetesPedigreeFunction', 'BMI', 'Glucose', 'Insulin', 'Outcome']\n",
    "for col in correct_varlist:\n",
    "    mediane= df[df[col] !=0][col].median() # compute the value of the mediane of each column from non null values\n",
    "    correct_varlist= df[col].replace(0, mediane)# for each column replace zero with its mediane\n",
    "    print(df[col].isnull().count()) \n",
    "    "
   ]
  },
  {
   "cell_type": "code",
   "execution_count": 9,
   "id": "94bde00f",
   "metadata": {},
   "outputs": [
    {
     "name": "stdout",
     "output_type": "stream",
     "text": [
      "0      1\n",
      "1      1\n",
      "2      1\n",
      "3      1\n",
      "5      1\n",
      "      ..\n",
      "763    1\n",
      "764    1\n",
      "765    1\n",
      "766    1\n",
      "767    1\n",
      "Name: Outcome, Length: 685, dtype: int64\n",
      "<class 'pandas.core.series.Series'>\n"
     ]
    }
   ],
   "source": [
    "print(correct_varlist)\n",
    "print(type(correct_varlist))\n"
   ]
  },
  {
   "cell_type": "markdown",
   "id": "aad68b2d",
   "metadata": {},
   "source": [
    "Desriptive statistics plotting the explantory variables based on the outcome variables"
   ]
  },
  {
   "cell_type": "code",
   "execution_count": 10,
   "id": "c09af5db",
   "metadata": {},
   "outputs": [
    {
     "data": {
      "text/html": [
       "<div>\n",
       "<style scoped>\n",
       "    .dataframe tbody tr th:only-of-type {\n",
       "        vertical-align: middle;\n",
       "    }\n",
       "\n",
       "    .dataframe tbody tr th {\n",
       "        vertical-align: top;\n",
       "    }\n",
       "\n",
       "    .dataframe thead th {\n",
       "        text-align: right;\n",
       "    }\n",
       "</style>\n",
       "<table border=\"1\" class=\"dataframe\">\n",
       "  <thead>\n",
       "    <tr style=\"text-align: right;\">\n",
       "      <th></th>\n",
       "      <th>DiabetesPedigreeFunction</th>\n",
       "      <th>BMI</th>\n",
       "      <th>Glucose</th>\n",
       "      <th>Insulin</th>\n",
       "    </tr>\n",
       "    <tr>\n",
       "      <th>Outcome</th>\n",
       "      <th></th>\n",
       "      <th></th>\n",
       "      <th></th>\n",
       "      <th></th>\n",
       "    </tr>\n",
       "  </thead>\n",
       "  <tbody>\n",
       "    <tr>\n",
       "      <th>0</th>\n",
       "      <td>0.400284</td>\n",
       "      <td>30.712771</td>\n",
       "      <td>109.467532</td>\n",
       "      <td>58.028139</td>\n",
       "    </tr>\n",
       "    <tr>\n",
       "      <th>1</th>\n",
       "      <td>0.489556</td>\n",
       "      <td>34.827803</td>\n",
       "      <td>140.937220</td>\n",
       "      <td>70.937220</td>\n",
       "    </tr>\n",
       "  </tbody>\n",
       "</table>\n",
       "</div>"
      ],
      "text/plain": [
       "         DiabetesPedigreeFunction        BMI     Glucose    Insulin\n",
       "Outcome                                                            \n",
       "0                        0.400284  30.712771  109.467532  58.028139\n",
       "1                        0.489556  34.827803  140.937220  70.937220"
      ]
     },
     "execution_count": 10,
     "metadata": {},
     "output_type": "execute_result"
    }
   ],
   "source": [
    "# summarize the explanatory variables into mean and by outcome variable\n",
    "correct_varlist = ['DiabetesPedigreeFunction', 'BMI', 'Glucose', 'Insulin', 'Outcome']\n",
    "#df.groupby('Outcome')[['DiabetesPedigreeFunction', 'BMI', 'Glucose', 'Insulin']].mean()\n",
    "df.groupby('Outcome')[correct_varlist[:-1]].mean()# [correct_varlist[:-1]]to remove the last column\n",
    "                                                  #from the explanatory variables"
   ]
  },
  {
   "cell_type": "markdown",
   "id": "c3b25c0e",
   "metadata": {},
   "source": [
    "modelling via logistic since the outcomes is binary"
   ]
  },
  {
   "cell_type": "code",
   "execution_count": 17,
   "id": "a7774d29",
   "metadata": {},
   "outputs": [],
   "source": [
    "\n",
    "#data preparation, split the outcome, explanotory variables in the dataframe\n",
    "correct_varlist = ['DiabetesPedigreeFunction', 'BMI', 'Glucose', 'Insulin', 'Outcome']\n",
    "X = df[correct_varlist[:-1]] # to remove from the last variable of the lis which is Outcome\n",
    "Y = df[correct_varlist[-1]] # the outcome the last variable in the list is now used\n",
    "\n",
    "#proceeding to the regression\n",
    "# pip install scikit-learn for regression stuff\n",
    "\n",
    "# unfolding the packaging \n",
    "\n",
    "from sklearn.linear_model import LogisticRegression\n",
    "import pickle\n",
    "# Create the model\n",
    "model = LogisticRegression(max_iter=1000)\n",
    "\n",
    "# Fit the model to the entire dataset\n",
    "model.fit(X, Y)\n",
    "\n",
    "#save the model into pickle file\n",
    "with open('diabetes_tracking_app.pkl','wb') as f:\n",
    "    model = pickle.dump(model, f)\n"
   ]
  },
  {
   "cell_type": "markdown",
   "id": "a5790d17",
   "metadata": {},
   "source": [
    "retrieve the model coefficients (including the intercept)"
   ]
  },
  {
   "cell_type": "code",
   "execution_count": 21,
   "id": "0573abb6",
   "metadata": {},
   "outputs": [
    {
     "name": "stdout",
     "output_type": "stream",
     "text": [
      "                    Feature  Coefficients\n",
      "0  DiabetesPedigreeFunction      1.232345\n",
      "1                       BMI      0.091802\n",
      "2                   Glucose      0.043295\n",
      "3                   Insulin     -0.002939\n",
      "4                 Intercept     -9.450911\n"
     ]
    }
   ],
   "source": [
    "import pandas as pd\n",
    "with open(\"diabetes_tracking_app.pkl\", \"rb\") as f:\n",
    "    model = pickle.load(f)\n",
    "#all the coefficients\n",
    "# using pandas\n",
    "coef=pd.DataFrame({\n",
    "    'Feature':X.columns, #from the explanatory variables\n",
    "    'Coefficients':model.coef_[0]# adding no weight ([0]) on the coefficients\n",
    "})\n",
    "#the intercepts\n",
    "intercept=pd.DataFrame([{\n",
    "    'Feature':'Intercept',\n",
    "    'Coefficients': model.intercept_[0]# adding no weight ([0]) on the alpha\n",
    "}])\n",
    "#retrieve them all\n",
    "coef_model=pd.concat([coef,intercept], ignore_index=True)\n",
    "print(coef_model)"
   ]
  },
  {
   "cell_type": "markdown",
   "id": "ae62b292",
   "metadata": {},
   "source": [
    "set the prediction\n",
    "predictions=model.predict(X)\n",
    "print(predictions)"
   ]
  },
  {
   "cell_type": "code",
   "execution_count": null,
   "id": "79e0ba60",
   "metadata": {},
   "outputs": [
    {
     "name": "stdout",
     "output_type": "stream",
     "text": [
      "Please provide the measurements\n",
      "diabetes negative\n"
     ]
    },
    {
     "name": "stderr",
     "output_type": "stream",
     "text": [
      "c:\\Users\\randz\\AppData\\Local\\Programs\\Python\\Python313\\Lib\\site-packages\\sklearn\\utils\\validation.py:2739: UserWarning: X does not have valid feature names, but LogisticRegression was fitted with feature names\n",
      "  warnings.warn(\n"
     ]
    }
   ],
   "source": [
    "#by feeding the explanatory variables we should get the results either positive or negative\n",
    "# here we should expect that the users would input the measurements within the  accepted range\n",
    "\n",
    "#import joblib\n",
    "# saving the model as diabetes_tracking_app\n",
    "#joblib.dump(model, 'diabetes_tracking_app.pkl')\n",
    "\n",
    "#reload the model to be used in an interactive app\n",
    "#model= joblib.load('diabetes_tracking_app.pkl')\n",
    "# writting on the app to enter the measurements\n",
    "#print(\"Please provide the measurements\")\n",
    "\n",
    "# DiabetesPedigreeFunction=float(input(\"Diabetes Pedigree Function: \"))\n",
    "# if DiabetesPedigreeFunction<0 or DiabetesPedigreeFunction >2.5: \n",
    "#  print(\"value out of range\")\n",
    "# else: \n",
    "\n",
    "# BMI=float(input(\"BMI: \"))\n",
    "\n",
    "# if BMI<5 or BMI>30:\n",
    "# print('Value out of range')\n",
    "# else:\n",
    "# Glucose=float(input('Glucose: '))\n",
    "# if Glucose<70 or Glucose>120:\n",
    "# print('Value out of range')\n",
    "# else:\n",
    " \n",
    "# Insulin=float(input('Insuline: '))\n",
    "# if Insulin<0 or Insulin>846:\n",
    "# print('value out of range')\n",
    "\n",
    "# gathering the explanatory variables as a vector\n",
    "# user_input=np.array([[DiabetesPedigreeFunction, BMI,Glucose, Insulin]])\n",
    "\n",
    "#### display the output\n",
    "# predictions=model.predict(user_input)\n",
    "# if predictions[0]:\n",
    "# print(\"diabetes positive\")\n",
    "# else:\n",
    "# print(\"diabetes negative\")"
   ]
  },
  {
   "cell_type": "markdown",
   "id": "0466fb6b",
   "metadata": {},
   "source": [
    "installing streamlit"
   ]
  },
  {
   "cell_type": "markdown",
   "id": "ff6535c1",
   "metadata": {},
   "source": [
    "launchin the interactive streamlit's widget"
   ]
  },
  {
   "cell_type": "markdown",
   "id": "58519ce5",
   "metadata": {},
   "source": [
    "ON STREAMLIT WEB APP"
   ]
  },
  {
   "cell_type": "code",
   "execution_count": 23,
   "id": "297ef279",
   "metadata": {},
   "outputs": [
    {
     "name": "stderr",
     "output_type": "stream",
     "text": [
      "2025-05-09 14:49:34.330 Thread 'MainThread': missing ScriptRunContext! This warning can be ignored when running in bare mode.\n",
      "2025-05-09 14:49:34.341 Thread 'MainThread': missing ScriptRunContext! This warning can be ignored when running in bare mode.\n",
      "2025-05-09 14:49:34.348 Thread 'MainThread': missing ScriptRunContext! This warning can be ignored when running in bare mode.\n",
      "2025-05-09 14:49:34.351 Thread 'MainThread': missing ScriptRunContext! This warning can be ignored when running in bare mode.\n",
      "2025-05-09 14:49:34.356 Thread 'MainThread': missing ScriptRunContext! This warning can be ignored when running in bare mode.\n",
      "2025-05-09 14:49:34.361 Thread 'MainThread': missing ScriptRunContext! This warning can be ignored when running in bare mode.\n",
      "2025-05-09 14:49:34.369 Thread 'MainThread': missing ScriptRunContext! This warning can be ignored when running in bare mode.\n",
      "2025-05-09 14:49:34.372 Thread 'MainThread': missing ScriptRunContext! This warning can be ignored when running in bare mode.\n",
      "2025-05-09 14:49:34.374 Thread 'MainThread': missing ScriptRunContext! This warning can be ignored when running in bare mode.\n",
      "2025-05-09 14:49:34.376 Thread 'MainThread': missing ScriptRunContext! This warning can be ignored when running in bare mode.\n",
      "2025-05-09 14:49:34.379 Thread 'MainThread': missing ScriptRunContext! This warning can be ignored when running in bare mode.\n",
      "2025-05-09 14:49:34.383 Thread 'MainThread': missing ScriptRunContext! This warning can be ignored when running in bare mode.\n",
      "2025-05-09 14:49:34.385 Thread 'MainThread': missing ScriptRunContext! This warning can be ignored when running in bare mode.\n",
      "2025-05-09 14:49:34.389 Thread 'MainThread': missing ScriptRunContext! This warning can be ignored when running in bare mode.\n",
      "2025-05-09 14:49:34.392 Thread 'MainThread': missing ScriptRunContext! This warning can be ignored when running in bare mode.\n",
      "2025-05-09 14:49:34.394 Thread 'MainThread': missing ScriptRunContext! This warning can be ignored when running in bare mode.\n",
      "2025-05-09 14:49:34.397 Thread 'MainThread': missing ScriptRunContext! This warning can be ignored when running in bare mode.\n",
      "2025-05-09 14:49:34.399 Thread 'MainThread': missing ScriptRunContext! This warning can be ignored when running in bare mode.\n",
      "2025-05-09 14:49:34.401 Thread 'MainThread': missing ScriptRunContext! This warning can be ignored when running in bare mode.\n",
      "2025-05-09 14:49:34.405 Thread 'MainThread': missing ScriptRunContext! This warning can be ignored when running in bare mode.\n",
      "2025-05-09 14:49:34.410 Thread 'MainThread': missing ScriptRunContext! This warning can be ignored when running in bare mode.\n",
      "2025-05-09 14:49:34.413 Thread 'MainThread': missing ScriptRunContext! This warning can be ignored when running in bare mode.\n",
      "2025-05-09 14:49:34.416 Thread 'MainThread': missing ScriptRunContext! This warning can be ignored when running in bare mode.\n",
      "2025-05-09 14:49:34.419 Thread 'MainThread': missing ScriptRunContext! This warning can be ignored when running in bare mode.\n",
      "2025-05-09 14:49:34.423 Thread 'MainThread': missing ScriptRunContext! This warning can be ignored when running in bare mode.\n",
      "2025-05-09 14:49:34.425 Thread 'MainThread': missing ScriptRunContext! This warning can be ignored when running in bare mode.\n",
      "2025-05-09 14:49:34.430 Thread 'MainThread': missing ScriptRunContext! This warning can be ignored when running in bare mode.\n",
      "2025-05-09 14:49:34.433 Thread 'MainThread': missing ScriptRunContext! This warning can be ignored when running in bare mode.\n",
      "2025-05-09 14:49:34.436 Thread 'MainThread': missing ScriptRunContext! This warning can be ignored when running in bare mode.\n",
      "2025-05-09 14:49:34.437 Thread 'MainThread': missing ScriptRunContext! This warning can be ignored when running in bare mode.\n",
      "2025-05-09 14:49:34.440 Thread 'MainThread': missing ScriptRunContext! This warning can be ignored when running in bare mode.\n",
      "2025-05-09 14:49:34.442 Thread 'MainThread': missing ScriptRunContext! This warning can be ignored when running in bare mode.\n",
      "2025-05-09 14:49:34.446 Thread 'MainThread': missing ScriptRunContext! This warning can be ignored when running in bare mode.\n",
      "2025-05-09 14:49:34.448 Thread 'MainThread': missing ScriptRunContext! This warning can be ignored when running in bare mode.\n",
      "2025-05-09 14:49:34.453 Thread 'MainThread': missing ScriptRunContext! This warning can be ignored when running in bare mode.\n",
      "2025-05-09 14:49:34.457 Thread 'MainThread': missing ScriptRunContext! This warning can be ignored when running in bare mode.\n",
      "2025-05-09 14:49:34.461 Thread 'MainThread': missing ScriptRunContext! This warning can be ignored when running in bare mode.\n",
      "2025-05-09 14:49:34.465 Thread 'MainThread': missing ScriptRunContext! This warning can be ignored when running in bare mode.\n",
      "2025-05-09 14:49:34.468 Thread 'MainThread': missing ScriptRunContext! This warning can be ignored when running in bare mode.\n"
     ]
    }
   ],
   "source": [
    "import streamlit as st\n",
    "import pickle\n",
    "import numpy as np\n",
    "\n",
    "# Load your trained model\n",
    "with open(\"diabetes_tracking_app.pkl\", \"rb\") as f:\n",
    "    model = pickle.load(f)\n",
    "\n",
    "st.title(\"Diabetes Prediction App\")\n",
    "\n",
    "# User inputs\n",
    "dpf = st.number_input(\"Diabetes Pedigree Function\", min_value=0.0, max_value=3.0, step=0.01)\n",
    "bmi = st.number_input(\"Body Mass Index (BMI)\", min_value=0.0, max_value=50.0, step=0.1)\n",
    "glucose = st.number_input(\"Glucose Level\", min_value=0.0, max_value=200.0, step=1.0)\n",
    "insulin = st.number_input(\"Insulin Level\", min_value=0.0, max_value=900.0, step=1.0)\n",
    "\n",
    "\n",
    "# Display inputs\n",
    "st.write(f\"**DPF:** {dpf}\")\n",
    "st.write(f\"**BMI:** {bmi}\")\n",
    "st.write(f\"**Glucose:** {glucose}\")\n",
    "st.write(f\"**Insulin:** {insulin}\")\n",
    "\n",
    "# Prediction\n",
    "if st.button(\"Predict\"):\n",
    "    features = np.array([[dpf, bmi, glucose, insulin]])\n",
    "    pred = model.predict(features)[0]\n",
    "    if pred == 1:\n",
    "        st.error(\"🛑 Prediction: Diabetes POSITIVE\")\n",
    "    else:\n",
    "        st.success(\"✅ Prediction: Diabetes NEGATIVE\")\n"
   ]
  },
  {
   "cell_type": "code",
   "execution_count": 24,
   "id": "6bee44d2",
   "metadata": {},
   "outputs": [
    {
     "name": "stdout",
     "output_type": "stream",
     "text": [
      "['app.py', 'diabetes.csv', 'diabetes_tracking_app.pkl', 'exam.ipynb', 'exam_Bintou&lita[1].ipynb', 'requirements.txt', 'syntax']\n"
     ]
    }
   ],
   "source": [
    "import os\n",
    "print(os.listdir('.'))\n"
   ]
  },
  {
   "cell_type": "markdown",
   "id": "b66a410d",
   "metadata": {},
   "source": [
    "running the streamlit on powershell \n",
    "cd \"C:\\Users\\randz\\Desktop\\D.U.data_analytics\\intro_python\\intro_python_1\\livrable_exams\"\n",
    "streamlit run app.py\n"
   ]
  }
 ],
 "metadata": {
  "kernelspec": {
   "display_name": "Python 3",
   "language": "python",
   "name": "python3"
  },
  "language_info": {
   "codemirror_mode": {
    "name": "ipython",
    "version": 3
   },
   "file_extension": ".py",
   "mimetype": "text/x-python",
   "name": "python",
   "nbconvert_exporter": "python",
   "pygments_lexer": "ipython3",
   "version": "3.13.3"
  }
 },
 "nbformat": 4,
 "nbformat_minor": 5
}
